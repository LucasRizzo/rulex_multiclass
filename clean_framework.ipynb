{
 "cells": [
  {
   "cell_type": "code",
   "execution_count": 1,
   "metadata": {},
   "outputs": [],
   "source": [
    "import pandas as pd\n",
    "import glob\n",
    "import os"
   ]
  },
  {
   "cell_type": "code",
   "execution_count": 34,
   "metadata": {},
   "outputs": [],
   "source": [
    "def remove_id_from_header(folder_path):\n",
    "    # Iterate over all files in the specified folder\n",
    "    for filename in os.listdir(folder_path):\n",
    "        if filename.endswith('.csv'):\n",
    "            file_path = os.path.join(folder_path, filename)\n",
    "\n",
    "            # Read the lines of the CSV file\n",
    "            with open(file_path, 'r') as file:\n",
    "                lines = file.readlines()\n",
    "\n",
    "            # Modify the first line by removing 'ID,'\n",
    "            lines[0] = lines[0].replace('ID,', '')\n",
    "\n",
    "            # Write the modified lines back to the file\n",
    "            with open(file_path, 'w') as file:\n",
    "                file.writelines(lines)\n",
    "            #print(f\"Updated header in: {filename}\")"
   ]
  },
  {
   "cell_type": "code",
   "execution_count": 48,
   "metadata": {},
   "outputs": [],
   "source": [
    "\n",
    "def add_column_to_csvs(source_csv, target_folder, column_name, dataset):\n",
    "    # Read the specified column from the source CSV file\n",
    "    source_df = pd.read_csv(source_csv)\n",
    "    \n",
    "    # Check if the specified column exists in the source DataFrame\n",
    "    if column_name not in source_df.columns:\n",
    "        print(f\"Column '{column_name}' not found in '{source_csv}'.\")\n",
    "        return\n",
    "\n",
    "    # Extract the specified column\n",
    "    column_data = source_df[column_name]\n",
    "\n",
    "    # Find all CSV files in the target folder\n",
    "    target_files = glob.glob(os.path.join(target_folder, '*.csv'))\n",
    "\n",
    "    # Iterate over each target CSV file and append the column\n",
    "    for target_file in target_files:\n",
    "        if dataset not in target_file:\n",
    "            continue\n",
    "\n",
    "        try:\n",
    "            # Read the target CSV file\n",
    "            target_df = pd.read_csv(target_file, na_filter=True, skip_blank_lines=False)\n",
    "\n",
    "            # print(target_file)\n",
    "            # print(target_df.shape)\n",
    "\n",
    "            # Add the column to the target DataFrame\n",
    "            target_df[\"GroundTruth\"] = column_data.values  # Ensure proper alignment by using .values\n",
    "\n",
    "            # Save the updated DataFrame back to the CSV file\n",
    "            target_df.to_csv(target_file, index=False)\n",
    "            #print(f\"Column '{column_name}' added to '{target_file}'.\")\n",
    "        except Exception as e:\n",
    "            print(f\"An error occurred while processing '{target_file}': {e}\")\n"
   ]
  },
  {
   "cell_type": "code",
   "execution_count": null,
   "metadata": {},
   "outputs": [],
   "source": [
    "import pandas as pd\n",
    "\n",
    "def modify_csv(input_csv, output_csv):\n",
    "    # Read the original CSV file\n",
    "    df = pd.read_csv(input_csv)\n",
    "    \n",
    "    # Create a new ID column starting from 1\n",
    "    df.insert(0, 'ID', range(1, len(df) + 1))\n",
    "    \n",
    "    # Shift existing data to the right\n",
    "    df.columns = ['ID'] + df.columns[:-1].tolist()  # Update the columns with the new order\n",
    "\n",
    "    # Save the modified DataFrame to a new CSV file\n",
    "    df.to_csv(output_csv, index=False)\n",
    "    print(f\"Modified CSV saved as '{output_csv}'.\")\n",
    "\n",
    "if __name__ == \"__main__\":\n",
    "    input_csv = '/mnt/data/your_original_file.csv'  # Replace with your original CSV file path\n",
    "    output_csv = 'modified_file.csv'  # The name for the new CSV file\n",
    "\n",
    "    modify_csv(input_csv, output_csv)"
   ]
  },
  {
   "cell_type": "code",
   "execution_count": null,
   "metadata": {},
   "outputs": [],
   "source": [
    "# Remove ID from header\n",
    "folder_path = './framework_data'  # Change this to your folder path\n",
    "remove_id_from_header(folder_path)"
   ]
  },
  {
   "cell_type": "code",
   "execution_count": null,
   "metadata": {},
   "outputs": [],
   "source": [
    "source_csv = './Cars/cars_numeric.csv'  # Replace with your source CSV file path\n",
    "target_folder = './framework_data/'  # Replace with your target folder path\n",
    "column_name = 'class'  # Replace with your desired column name\n",
    "\n",
    "add_column_to_csvs(source_csv, target_folder, column_name, \"cars\")"
   ]
  },
  {
   "cell_type": "code",
   "execution_count": null,
   "metadata": {},
   "outputs": [],
   "source": [
    "source_csv = './Cirrhosis/cirrhosis_numeric.csv'  # Replace with your source CSV file path\n",
    "target_folder = './framework_data/'  # Replace with your target folder path\n",
    "column_name = 'Stage'  # Replace with your desired column name\n",
    "\n",
    "add_column_to_csvs(source_csv, target_folder, column_name, \"cirrhosis\")"
   ]
  },
  {
   "cell_type": "code",
   "execution_count": 32,
   "metadata": {},
   "outputs": [],
   "source": [
    "source_csv = './Genetic/GDS4968_numeric.csv'  # Replace with your source CSV file path\n",
    "target_folder = './framework_data/'  # Replace with your target folder path\n",
    "column_name = 'Output'  # Replace with your desired column name\n",
    "\n",
    "add_column_to_csvs(source_csv, target_folder, column_name, \"genetic\")"
   ]
  },
  {
   "cell_type": "code",
   "execution_count": 49,
   "metadata": {},
   "outputs": [
    {
     "name": "stdout",
     "output_type": "stream",
     "text": [
      "./framework_data\\myocardial_multiclass_error_0010_100.csv\n",
      "(1436, 3)\n",
      "./framework_data\\myocardial_multiclass_error_0010_25.csv\n",
      "(1436, 3)\n",
      "./framework_data\\myocardial_multiclass_error_0010_50.csv\n",
      "(1436, 3)\n",
      "./framework_data\\myocardial_multiclass_error_0010_90.csv\n",
      "(1436, 3)\n",
      "./framework_data\\myocardial_multiclass_error_0040_100.csv\n",
      "(1436, 3)\n",
      "./framework_data\\myocardial_multiclass_error_0040_25.csv\n",
      "(1436, 3)\n",
      "./framework_data\\myocardial_multiclass_error_0040_50.csv\n",
      "(1436, 3)\n",
      "./framework_data\\myocardial_multiclass_error_0040_90.csv\n",
      "(1436, 3)\n",
      "./framework_data\\myocardial_multiclass_error_0070_100.csv\n",
      "(1436, 3)\n",
      "./framework_data\\myocardial_multiclass_error_0070_25.csv\n",
      "(1436, 3)\n",
      "./framework_data\\myocardial_multiclass_error_0070_50.csv\n",
      "(1436, 3)\n",
      "./framework_data\\myocardial_multiclass_error_0070_90.csv\n",
      "(1436, 3)\n",
      "./framework_data\\myocardial_multiclass_error_0100_100.csv\n",
      "(1436, 3)\n",
      "./framework_data\\myocardial_multiclass_error_0100_25.csv\n",
      "(1436, 3)\n",
      "./framework_data\\myocardial_multiclass_error_0100_50.csv\n",
      "(1436, 3)\n",
      "./framework_data\\myocardial_multiclass_error_0100_90.csv\n",
      "(1436, 3)\n"
     ]
    }
   ],
   "source": [
    "source_csv = './Myocardial/myocardial_numeric.csv'  # Replace with your source CSV file path\n",
    "target_folder = './framework_data/'  # Replace with your target folder path\n",
    "column_name = 'LET_IS'  # Replace with your desired column name\n",
    "\n",
    "add_column_to_csvs(source_csv, target_folder, column_name, \"myocardial\")"
   ]
  }
 ],
 "metadata": {
  "kernelspec": {
   "display_name": "Python 3",
   "language": "python",
   "name": "python3"
  },
  "language_info": {
   "codemirror_mode": {
    "name": "ipython",
    "version": 3
   },
   "file_extension": ".py",
   "mimetype": "text/x-python",
   "name": "python",
   "nbconvert_exporter": "python",
   "pygments_lexer": "ipython3",
   "version": "3.12.1"
  }
 },
 "nbformat": 4,
 "nbformat_minor": 2
}
