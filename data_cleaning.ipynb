{
 "cells": [
  {
   "cell_type": "code",
   "execution_count": 2,
   "metadata": {},
   "outputs": [],
   "source": [
    "from matplotlib import pyplot as plt\n",
    "from sklearn import datasets\n",
    "from sklearn.tree import DecisionTreeClassifier \n",
    "from sklearn import tree\n",
    "from sklearn.model_selection import train_test_split\n",
    "from sklearn.metrics import balanced_accuracy_score\n",
    "from sklearn.tree import _tree\n",
    "import numpy as np\n",
    "import pandas as pd\n",
    "import csv\n",
    "import math\n",
    "import copy\n",
    "import scipy.stats as st\n",
    "#from argument import *"
   ]
  },
  {
   "cell_type": "code",
   "execution_count": 3,
   "metadata": {},
   "outputs": [],
   "source": [
    "# Map string values to integer\n",
    "def create_dictionary(feature, df):\n",
    "    number = 0\n",
    "    map_dictionary = {}\n",
    "    for category in df[feature].unique():\n",
    "        map_dictionary[category] = number\n",
    "        number += 1\n",
    "    #print(map_dictionary)\n",
    "    return map_dictionary"
   ]
  },
  {
   "cell_type": "code",
   "execution_count": 19,
   "metadata": {},
   "outputs": [
    {
     "name": "stdout",
     "output_type": "stream",
     "text": [
      "Output\n",
      "0    41\n",
      "1    33\n",
      "2    20\n",
      "3     5\n",
      "Name: count, dtype: int64\n",
      "Shape (99, 33298)\n"
     ]
    }
   ],
   "source": [
    "# GDS4968 code\n",
    "df = pd.read_csv('Data/GDS4968.csv')\n",
    "\n",
    "# Define a function to modify the values\n",
    "def remove_gsm(x):\n",
    "    return x[3:]\n",
    "\n",
    "df['Sample'] = df['Sample'].apply(remove_gsm)\n",
    "df['Sample'] = df['Sample'].astype(int)\n",
    "\n",
    "categories = [\"Output\"] # Only target feature has strings\n",
    "\n",
    "for category in categories:\n",
    "    df[category] = df[category].map(create_dictionary(category, df))\n",
    "\n",
    "# There is no missing data\n",
    "# missing_percentages = df.isna().mean() * 100\n",
    "# print(missing_percentages)\n",
    "\n",
    "# Numeric file\n",
    "df.to_csv(\"Data/GDS4968_numeric.csv\", index=False)\n",
    "\n",
    "# Final df info\n",
    "print(df['Output'].value_counts())\n",
    "print(\"Shape\", df.shape)"
   ]
  },
  {
   "cell_type": "code",
   "execution_count": 20,
   "metadata": {},
   "outputs": [
    {
     "name": "stdout",
     "output_type": "stream",
     "text": [
      "Stage\n",
      "3.0    153\n",
      "4.0    141\n",
      "2.0     86\n",
      "1.0     19\n",
      "Name: count, dtype: int64\n",
      "Shape (399, 15)\n"
     ]
    }
   ],
   "source": [
    "# Cirrhosis code\n",
    "df = pd.read_csv('Data/cirrhosis.csv')\n",
    "\n",
    "categories = [\"Status\", \"Drug\", \"Sex\", \"Ascites\", \n",
    "              \"Hepatomegaly\", \"Spiders\", \"Edema\"]\n",
    "\n",
    "for category in categories:\n",
    "    df[category] = df[category].map(create_dictionary(category, df))\n",
    "\n",
    "\n",
    "missing_percentages = df.isna().mean() * 100\n",
    "#print(missing_percentages)\n",
    "\n",
    "# Get the columns with missing percentages greater than 5% (Cholesterol, Copper, Alk_Phos, SGOT and Tryglicerides)\n",
    "columns_to_drop = missing_percentages[missing_percentages > 5].index\n",
    "\n",
    "# Drop the columns from the dataframe\n",
    "df = df.drop(columns_to_drop, axis=1)\n",
    "\n",
    "# Drop remaining rows with NA\n",
    "df = df.dropna()\n",
    "\n",
    "# Numeric file\n",
    "df.to_csv(\"Data/cirrhosis_numeric.csv\", index=False)\n",
    "\n",
    "# Final df info\n",
    "print(df['Stage'].value_counts())\n",
    "print(\"Shape\", df.shape)"
   ]
  },
  {
   "cell_type": "code",
   "execution_count": 22,
   "metadata": {},
   "outputs": [
    {
     "name": "stdout",
     "output_type": "stream",
     "text": [
      "class\n",
      "0    1210\n",
      "1     384\n",
      "2      69\n",
      "3      65\n",
      "Name: count, dtype: int64\n",
      "Class (1728, 7)\n"
     ]
    }
   ],
   "source": [
    "# Cars code\n",
    "# archive.ics.uci.edu/ml/datasets/Car+Evaluation\n",
    "df = pd.read_csv('Cars/cars_multiclass.csv')\n",
    "\n",
    "df['class'] = df['class'].map({\"unacc\":0,\"acc\":1,\"good\":2,\"vgood\":3})\n",
    "\n",
    "# missing_vals = df.isna().sum()\n",
    "# # view the sum of missing values\n",
    "# print(missing_vals)\n",
    "# df.describe()\n",
    "\n",
    "# Export to csv to import in the framework\n",
    "df.to_csv(\"Cars/cars_numeric.csv\")\n",
    "df.shape\n",
    "\n",
    "print(df['class'].value_counts())\n",
    "print(\"Class\", df.shape)"
   ]
  },
  {
   "cell_type": "code",
   "execution_count": 46,
   "metadata": {},
   "outputs": [
    {
     "name": "stdout",
     "output_type": "stream",
     "text": [
      "LET_IS\n",
      "0    1291\n",
      "3      42\n",
      "1      41\n",
      "7      17\n",
      "6      15\n",
      "4      13\n",
      "2      11\n",
      "5       6\n",
      "Name: count, dtype: int64\n"
     ]
    },
    {
     "data": {
      "text/plain": [
       "(1436, 60)"
      ]
     },
     "execution_count": 46,
     "metadata": {},
     "output_type": "execute_result"
    }
   ],
   "source": [
    "# Myocardial code\n",
    "# archive.ics.uci.edu/ml/datasets/Myocardial+infarction+complications\n",
    "df = pd.read_csv('Myocardial/myocardial.csv')\n",
    "\n",
    "# Column 123, LET_IS, was chosen as target since it is the only multiclass\n",
    "df = df.drop(df.columns[0], axis=1) # Drop ID\n",
    "df = df.drop(df.columns[111:122], axis=1) # Drop predictors not used\n",
    "\n",
    "missing_percentages = df.isna().mean() * 100\n",
    "#print(missing_percentages)\n",
    "\n",
    "# Get the columns with missing percentages greater than 5%\n",
    "columns_to_drop = missing_percentages[missing_percentages > 5].index\n",
    "\n",
    "# Drop the columns from the dataframe\n",
    "df = df.drop(columns_to_drop, axis=1)\n",
    "\n",
    "#list(df.columns)\n",
    "df = df.dropna() # Drop remaining NA rows\n",
    "\n",
    "# Export to csv to import in the framework\n",
    "df.to_csv(\"Myocardial/myocardial_numeric.csv\")\n",
    "\n",
    "# Final shape\n",
    "print(df.iloc[:, 59].value_counts()) # LET_IS\n",
    "# Lethal outcome \n",
    "# (cause) 0: unknown \n",
    "# (alive) 1: cardiogenic shock \n",
    "# 2: pulmonary edema \n",
    "# 3: myocardial rupture \n",
    "# 4: progress of congestive heart failure \n",
    "# 5: thromboembolism \n",
    "# 6: asystole \n",
    "# 7: ventricular fibrillation\n",
    "\n",
    "df.shape"
   ]
  }
 ],
 "metadata": {
  "kernelspec": {
   "display_name": "Python 3",
   "language": "python",
   "name": "python3"
  },
  "language_info": {
   "codemirror_mode": {
    "name": "ipython",
    "version": 3
   },
   "file_extension": ".py",
   "mimetype": "text/x-python",
   "name": "python",
   "nbconvert_exporter": "python",
   "pygments_lexer": "ipython3",
   "version": "3.12.1"
  }
 },
 "nbformat": 4,
 "nbformat_minor": 2
}
